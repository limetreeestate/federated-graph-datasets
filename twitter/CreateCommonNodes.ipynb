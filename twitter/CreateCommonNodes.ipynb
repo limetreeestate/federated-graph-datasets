{
  "nbformat": 4,
  "nbformat_minor": 0,
  "metadata": {
    "kernelspec": {
      "display_name": "Python 3",
      "language": "python",
      "name": "python3"
    },
    "language_info": {
      "codemirror_mode": {
        "name": "ipython",
        "version": 3
      },
      "file_extension": ".py",
      "mimetype": "text/x-python",
      "name": "python",
      "nbconvert_exporter": "python",
      "pygments_lexer": "ipython3",
      "version": "3.6.6"
    },
    "pycharm": {
      "stem_cell": {
        "cell_type": "raw",
        "source": [],
        "metadata": {
          "collapsed": false
        }
      }
    },
    "colab": {
      "name": "CreateCommonNodes.ipynb",
      "provenance": [],
      "collapsed_sections": []
    }
  },
  "cells": [
    {
      "cell_type": "code",
      "metadata": {
        "pycharm": {
          "is_executing": false
        },
        "id": "E4sZ7IxDv8pB"
      },
      "source": [
        "import networkx as nx\n",
        "import glob\n",
        "from collections import Counter\n",
        "from nltk.corpus import stopwords\n",
        "from random import random, seed\n",
        "import csv"
      ],
      "execution_count": 1,
      "outputs": []
    },
    {
      "cell_type": "code",
      "metadata": {
        "pycharm": {
          "is_executing": false
        },
        "id": "z_ONH6O7v8pT"
      },
      "source": [
        "vertexIDMap = {}\n",
        "featureList = []\n",
        "featureCounter = 0\n",
        "vertexCounter = 0\n",
        "attributeDict = {}"
      ],
      "execution_count": 2,
      "outputs": []
    },
    {
      "cell_type": "code",
      "metadata": {
        "pycharm": {
          "is_executing": false
        },
        "id": "o3LxB2oZv8pU"
      },
      "source": [
        "logStr = \"\"\n",
        "def log(param, printMode=True):\n",
        "    global logStr\n",
        "    logStr += param + \"\\n\"\n",
        "    if printMode:\n",
        "        print(param)"
      ],
      "execution_count": 3,
      "outputs": []
    },
    {
      "cell_type": "code",
      "metadata": {
        "pycharm": {
          "is_executing": false
        },
        "id": "0Encl7oVv8pV"
      },
      "source": [
        "fh = open(\"3_0\", 'rb')\n",
        "g1 = nx.read_edgelist(fh, create_using=nx.DiGraph())\n",
        "fh.close()\n",
        "E1 = set(g1.edges())\n",
        "V1 = set(g1.nodes())\n",
        "\n",
        "fh = open(\"3_1\", 'rb')\n",
        "g2 = nx.read_edgelist(fh, create_using=nx.DiGraph())\n",
        "fh.close()\n",
        "E2 = set(g2.edges())\n",
        "V2 = set(g2.nodes())\n",
        "\n",
        "fh = open(\"3_2\", 'rb')\n",
        "g3 = nx.read_edgelist(fh, create_using=nx.DiGraph())\n",
        "fh.close()\n",
        "E3 = set(g3.edges())\n",
        "V3 = set(g3.nodes())"
      ],
      "execution_count": null,
      "outputs": []
    },
    {
      "cell_type": "code",
      "metadata": {
        "pycharm": {
          "is_executing": false
        },
        "id": "YAZnNpzev8pW"
      },
      "source": [
        "fh = open(\"3_centralstore_0\", 'rb')\n",
        "gc1 = nx.read_edgelist(fh, create_using=nx.DiGraph())\n",
        "fh.close()\n",
        "c1 = set(gc1.nodes())\n",
        "e1 = set(gc1.edges())\n",
        "\n",
        "fh = open(\"3_centralstore_1\", 'rb')\n",
        "gc2 = nx.read_edgelist(fh, create_using=nx.DiGraph())\n",
        "fh.close()\n",
        "c2 = set(gc2.nodes())\n",
        "e2 = set(gc2.edges())\n",
        "\n",
        "fh = open(\"3_centralstore_2\", 'rb')\n",
        "gc3 = nx.read_edgelist(fh, create_using=nx.DiGraph())\n",
        "fh.close()\n",
        "c3 = set(gc3.nodes())\n",
        "e3 = set(gc3.edges())"
      ],
      "execution_count": null,
      "outputs": []
    },
    {
      "cell_type": "code",
      "metadata": {
        "pycharm": {
          "is_executing": false
        },
        "id": "G9x7nwWov8pX",
        "outputId": "55c666dc-86a8-4688-f8db-a93ac87db942"
      },
      "source": [
        "set(V1).intersection(set(V3))"
      ],
      "execution_count": null,
      "outputs": [
        {
          "output_type": "execute_result",
          "data": {
            "text/plain": [
              "set()"
            ]
          },
          "metadata": {
            "tags": []
          },
          "execution_count": 5
        }
      ]
    },
    {
      "cell_type": "code",
      "metadata": {
        "id": "kUbzzbPbv8pY"
      },
      "source": [
        "commonNodes12 = set(V1).intersection(set(V2))\n",
        "commonNodes13 = set(V1).intersection(set(V3))\n",
        "commonNodes23 = set(V2).intersection(set(V3))"
      ],
      "execution_count": null,
      "outputs": []
    },
    {
      "cell_type": "code",
      "metadata": {
        "pycharm": {
          "is_executing": false
        },
        "id": "SU-9Z519v8pZ",
        "outputId": "41bb9218-9e2a-4bd9-9c8c-a662b1fca3c9"
      },
      "source": [
        "log(\"Initial common nodes: \" + str(len(set(c1).union(set(c2)).union(set(c3)))))\n",
        "log(\"Initial partition 1 nodes: \" + str(len(V1)))\n",
        "log(\"Initial partition 2 nodes: \" + str(len(V2)))\n",
        "log(\"Initial partition 3 nodes: \" + str(len(V3)))"
      ],
      "execution_count": null,
      "outputs": [
        {
          "output_type": "stream",
          "text": [
            "Initial common nodes: 27460\n",
            "Initial partition 1 nodes: 26312\n",
            "Initial partition 2 nodes: 27518\n",
            "Initial partition 3 nodes: 27476\n"
          ],
          "name": "stdout"
        }
      ]
    },
    {
      "cell_type": "code",
      "metadata": {
        "pycharm": {
          "is_executing": false
        },
        "id": "W1QcY6Pzv8pa",
        "outputId": "4cf447ae-63e5-4100-e265-9f1eacc80115"
      },
      "source": [
        "log(\"Initial common edges: \" + str(len(set(e1).union(set(e2)).union(set(e3)))))\n",
        "log(\"Initial partition 1 edges: \" + str(len(E1)))\n",
        "log(\"Initial partition 2 edges: \" + str(len(E2)))\n",
        "log(\"Initial partition 3 edges: \" + str(len(E3)))"
      ],
      "execution_count": null,
      "outputs": [
        {
          "output_type": "stream",
          "text": [
            "Initial common edges: 74819\n",
            "Initial partition 1 edges: 435825\n",
            "Initial partition 2 edges: 372280\n",
            "Initial partition 3 edges: 459386\n"
          ],
          "name": "stdout"
        }
      ]
    },
    {
      "cell_type": "code",
      "metadata": {
        "id": "OsaPXv4zv8pb",
        "outputId": "f793061e-014a-496a-ae51-52a466079a9c"
      },
      "source": [
        "set(g1.neighbors('1'))"
      ],
      "execution_count": null,
      "outputs": [
        {
          "output_type": "execute_result",
          "data": {
            "text/plain": [
              "{'11009', '17231', '1758', '20597', '24340', '2509', '30863', '9931'}"
            ]
          },
          "metadata": {
            "tags": []
          },
          "execution_count": 15
        }
      ]
    },
    {
      "cell_type": "code",
      "metadata": {
        "pycharm": {
          "is_executing": false
        },
        "id": "KI2j-WHNv8pb"
      },
      "source": [
        "commonNodes = c1.union(c2).union(c3)"
      ],
      "execution_count": null,
      "outputs": []
    },
    {
      "cell_type": "code",
      "metadata": {
        "pycharm": {
          "is_executing": false
        },
        "id": "lFj-Ku43v8pc",
        "outputId": "510357ba-0382-4f6c-bcc3-f79450875d70"
      },
      "source": [
        "len(commonNodes.intersection(V3))"
      ],
      "execution_count": null,
      "outputs": [
        {
          "output_type": "execute_result",
          "data": {
            "text/plain": [
              "9269"
            ]
          },
          "metadata": {
            "tags": []
          },
          "execution_count": 11
        }
      ]
    },
    {
      "cell_type": "code",
      "metadata": {
        "pycharm": {
          "is_executing": false
        },
        "id": "Iwo6TOrWv8pc"
      },
      "source": [
        "def bfs(commonNodes, limit):\n",
        "    queue = list(commonNodes)\n",
        "    l = len(queue)\n",
        "    while l <= limit:\n",
        "        v = queue.pop(0)\n",
        "        n1 =  list(g1.neighbors(v)) if g1.has_node(v) else []\n",
        "        n2 =  list(g2.neighbors(v)) if g2.has_node(v) else []\n",
        "        n3 =  list(g3.neighbors(v)) if g3.has_node(v) else []\n",
        "        newNodes = set(n1 + n2 + n3)\n",
        "        queue = queue + list(newNodes - set(queue)) + [v]\n",
        "        l = len(queue)\n",
        "    return queue"
      ],
      "execution_count": null,
      "outputs": []
    },
    {
      "cell_type": "code",
      "metadata": {
        "id": "VLaqie_Hv8pd"
      },
      "source": [
        "x80 = bfs(commonNodes, 81306 * 0.8)"
      ],
      "execution_count": null,
      "outputs": []
    },
    {
      "cell_type": "code",
      "metadata": {
        "id": "K7Y2mNBxv8pd"
      },
      "source": [
        "x20 = bfs(commonNodes, 81306 * 0.2)"
      ],
      "execution_count": null,
      "outputs": []
    },
    {
      "cell_type": "code",
      "metadata": {
        "id": "EcQxJiGLv8pe"
      },
      "source": [
        "x50 = bfs(commonNodes, 81306 * 0.5)"
      ],
      "execution_count": null,
      "outputs": []
    },
    {
      "cell_type": "code",
      "metadata": {
        "id": "I9CErwuFv8pe",
        "outputId": "04d1cd5c-3bc3-4af0-cfd8-5efb1c8d14c9"
      },
      "source": [
        "len(x50)"
      ],
      "execution_count": null,
      "outputs": [
        {
          "output_type": "execute_result",
          "data": {
            "text/plain": [
              "40655"
            ]
          },
          "metadata": {
            "tags": []
          },
          "execution_count": 106
        }
      ]
    },
    {
      "cell_type": "code",
      "metadata": {
        "id": "pAebpx7Zv8pf",
        "outputId": "3f6ef846-b9d3-418b-b1ce-e9bf1de895ee"
      },
      "source": [
        "len(V1.union(x50))"
      ],
      "execution_count": null,
      "outputs": [
        {
          "output_type": "execute_result",
          "data": {
            "text/plain": [
              "55785"
            ]
          },
          "metadata": {
            "tags": []
          },
          "execution_count": 109
        }
      ]
    },
    {
      "cell_type": "code",
      "metadata": {
        "id": "f22H0nnOv8pf"
      },
      "source": [
        "X = nx.compose(nx.compose(x1, x2), x3)"
      ],
      "execution_count": null,
      "outputs": []
    },
    {
      "cell_type": "code",
      "metadata": {
        "id": "tLqUA8Mav8pg",
        "outputId": "26a0b65a-9afa-494d-f8aa-356afe88e90b"
      },
      "source": [
        "seed(7)\n",
        "e1 = set(x1.edges())\n",
        "edges_remove_1 = set(filter(lambda x: x not in e1 and random() > 0.5, set(X.edges())))\n",
        "len(edges_remove_1)"
      ],
      "execution_count": null,
      "outputs": [
        {
          "output_type": "execute_result",
          "data": {
            "text/plain": [
              "210362"
            ]
          },
          "metadata": {
            "tags": []
          },
          "execution_count": 79
        }
      ]
    },
    {
      "cell_type": "code",
      "metadata": {
        "cellView": "code",
        "id": "YJIg-dA7v8pg",
        "outputId": "9af291ea-1a86-4a41-b630-68911dcf9990"
      },
      "source": [
        "#@title Default title text\n",
        "print(f\"Common nodes LOW\")\n",
        "with open(f\"commonNodesHigh.txt\", \"w\", newline='', encoding='utf-8') as f:\n",
        "    writer = csv.writer(f)\n",
        "    for v in x80:\n",
        "        writer.writerow([int(v)])\n",
        "print(f\"Common nodes MID\")\n",
        "with open(f\"commonNodesMid.txt\", \"w\", newline='', encoding='utf-8') as f:\n",
        "    writer = csv.writer(f)\n",
        "    for v in x50:\n",
        "        writer.writerow([int(v)])\n",
        "print(f\"Common nodes HIGH\")\n",
        "with open(f\"commonNodesLow.txt\", \"w\", newline='', encoding='utf-8') as f:\n",
        "    writer = csv.writer(f)\n",
        "    for v in x20:\n",
        "        writer.writerow([int(v)])\n",
        "\n"
      ],
      "execution_count": null,
      "outputs": [
        {
          "output_type": "stream",
          "text": [
            "Common nodes\n"
          ],
          "name": "stdout"
        }
      ]
    },
    {
      "cell_type": "code",
      "metadata": {
        "id": "t5C_1aEAv8pl"
      },
      "source": [
        ""
      ],
      "execution_count": null,
      "outputs": []
    }
  ]
}